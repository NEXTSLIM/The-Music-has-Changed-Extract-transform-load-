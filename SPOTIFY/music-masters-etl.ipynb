{
 "cells": [
  {
   "cell_type": "code",
   "execution_count": 1,
   "metadata": {},
   "outputs": [],
   "source": [
    "import pandas as pd\n",
    "from sqlalchemy import create_engine\n",
    "from config import postgres"
   ]
  },
  {
   "cell_type": "markdown",
   "metadata": {},
   "source": [
    "### Import Artists CSV into DataFrame & Clean"
   ]
  },
  {
   "cell_type": "code",
   "execution_count": 2,
   "metadata": {},
   "outputs": [],
   "source": [
    "#Import artist CSV file\n",
    "artist_csv_file = \"Resources/artists.csv\"\n",
    "artists_df = pd.read_csv(artist_csv_file, encoding='utf8')"
   ]
  },
  {
   "cell_type": "code",
   "execution_count": 83,
   "metadata": {},
   "outputs": [],
   "source": [
    "#Isolate only artists with >5k followers\n",
    "popular_artists_df = artists_df.loc[(artists_df[\"followers\"] > 5000)]"
   ]
  },
  {
   "cell_type": "code",
   "execution_count": 84,
   "metadata": {},
   "outputs": [],
   "source": [
    "#Rename columns to align to pgAdmin table\n",
    "popular_artists_df = popular_artists_df.rename(columns = {\"name\":\"artist\", \"id\": \"artist_id\"})"
   ]
  },
  {
   "cell_type": "markdown",
   "metadata": {},
   "source": [
    "### Tracks CSV into DataFrame & Clean"
   ]
  },
  {
   "cell_type": "code",
   "execution_count": 10,
   "metadata": {},
   "outputs": [],
   "source": [
    "tracks_csv_file = \"Resources/data_tracks.csv\"\n",
    "tracks_raw_df = pd.read_csv(tracks_csv_file, encoding='utf8')"
   ]
  },
  {
   "cell_type": "code",
   "execution_count": 18,
   "metadata": {},
   "outputs": [],
   "source": [
    "#Clear out data pre-1980\n",
    "tracks_post1980 = tracks_raw_df.loc[(tracks_raw_df[\"year\"] >= 1980)]"
   ]
  },
  {
   "cell_type": "code",
   "execution_count": 19,
   "metadata": {},
   "outputs": [],
   "source": [
    "#Clear out unnecessary columns, reset index after discarding data in previous step\n",
    "tracks_df = tracks_post1980[['year', 'artists', 'danceability','duration_ms','energy',\n",
    "                           'explicit','id','loudness','name','popularity','tempo']].copy()"
   ]
  },
  {
   "cell_type": "code",
   "execution_count": 20,
   "metadata": {},
   "outputs": [
    {
     "data": {
      "text/html": [
       "<div>\n",
       "<style scoped>\n",
       "    .dataframe tbody tr th:only-of-type {\n",
       "        vertical-align: middle;\n",
       "    }\n",
       "\n",
       "    .dataframe tbody tr th {\n",
       "        vertical-align: top;\n",
       "    }\n",
       "\n",
       "    .dataframe thead th {\n",
       "        text-align: right;\n",
       "    }\n",
       "</style>\n",
       "<table border=\"1\" class=\"dataframe\">\n",
       "  <thead>\n",
       "    <tr style=\"text-align: right;\">\n",
       "      <th></th>\n",
       "      <th>year</th>\n",
       "      <th>artist</th>\n",
       "      <th>danceability</th>\n",
       "      <th>duration_ms</th>\n",
       "      <th>energy</th>\n",
       "      <th>explicit</th>\n",
       "      <th>id</th>\n",
       "      <th>loudness</th>\n",
       "      <th>name</th>\n",
       "      <th>popularity</th>\n",
       "      <th>tempo</th>\n",
       "    </tr>\n",
       "  </thead>\n",
       "  <tbody>\n",
       "    <tr>\n",
       "      <th>11606</th>\n",
       "      <td>1980</td>\n",
       "      <td>AC/DC</td>\n",
       "      <td>0.310</td>\n",
       "      <td>255493</td>\n",
       "      <td>0.700</td>\n",
       "      <td>0</td>\n",
       "      <td>08mG3Y1vljYA6bvDt4Wqkj</td>\n",
       "      <td>-5.678</td>\n",
       "      <td>Back In Black</td>\n",
       "      <td>84</td>\n",
       "      <td>188.386</td>\n",
       "    </tr>\n",
       "    <tr>\n",
       "      <th>11607</th>\n",
       "      <td>1980</td>\n",
       "      <td>Paul McCartney</td>\n",
       "      <td>0.774</td>\n",
       "      <td>227653</td>\n",
       "      <td>0.511</td>\n",
       "      <td>0</td>\n",
       "      <td>1SV1fxF65n9NhRHp3KlBuu</td>\n",
       "      <td>-8.914</td>\n",
       "      <td>Wonderful Christmastime - Edited Version / Rem...</td>\n",
       "      <td>79</td>\n",
       "      <td>94.736</td>\n",
       "    </tr>\n",
       "    <tr>\n",
       "      <th>11608</th>\n",
       "      <td>1980</td>\n",
       "      <td>Queen</td>\n",
       "      <td>0.933</td>\n",
       "      <td>214653</td>\n",
       "      <td>0.528</td>\n",
       "      <td>0</td>\n",
       "      <td>57JVGBtBLCfHw2muk5416J</td>\n",
       "      <td>-6.472</td>\n",
       "      <td>Another One Bites The Dust - Remastered 2011</td>\n",
       "      <td>73</td>\n",
       "      <td>109.975</td>\n",
       "    </tr>\n",
       "    <tr>\n",
       "      <th>11609</th>\n",
       "      <td>1980</td>\n",
       "      <td>Daryl Hall &amp; John Oates</td>\n",
       "      <td>0.751</td>\n",
       "      <td>190627</td>\n",
       "      <td>0.501</td>\n",
       "      <td>0</td>\n",
       "      <td>4o6BgsqLIBViaGVbx5rbRk</td>\n",
       "      <td>-12.151</td>\n",
       "      <td>You Make My Dreams (Come True)</td>\n",
       "      <td>78</td>\n",
       "      <td>167.057</td>\n",
       "    </tr>\n",
       "    <tr>\n",
       "      <th>11610</th>\n",
       "      <td>1980</td>\n",
       "      <td>AC/DC</td>\n",
       "      <td>0.532</td>\n",
       "      <td>210173</td>\n",
       "      <td>0.767</td>\n",
       "      <td>0</td>\n",
       "      <td>2SiXAy7TuUkycRVbbWDEpo</td>\n",
       "      <td>-5.509</td>\n",
       "      <td>You Shook Me All Night Long</td>\n",
       "      <td>80</td>\n",
       "      <td>127.361</td>\n",
       "    </tr>\n",
       "  </tbody>\n",
       "</table>\n",
       "</div>"
      ],
      "text/plain": [
       "       year                   artist  danceability  duration_ms  energy  \\\n",
       "11606  1980                    AC/DC         0.310       255493   0.700   \n",
       "11607  1980           Paul McCartney         0.774       227653   0.511   \n",
       "11608  1980                    Queen         0.933       214653   0.528   \n",
       "11609  1980  Daryl Hall & John Oates         0.751       190627   0.501   \n",
       "11610  1980                    AC/DC         0.532       210173   0.767   \n",
       "\n",
       "       explicit                      id  loudness  \\\n",
       "11606         0  08mG3Y1vljYA6bvDt4Wqkj    -5.678   \n",
       "11607         0  1SV1fxF65n9NhRHp3KlBuu    -8.914   \n",
       "11608         0  57JVGBtBLCfHw2muk5416J    -6.472   \n",
       "11609         0  4o6BgsqLIBViaGVbx5rbRk   -12.151   \n",
       "11610         0  2SiXAy7TuUkycRVbbWDEpo    -5.509   \n",
       "\n",
       "                                                    name  popularity    tempo  \n",
       "11606                                      Back In Black          84  188.386  \n",
       "11607  Wonderful Christmastime - Edited Version / Rem...          79   94.736  \n",
       "11608       Another One Bites The Dust - Remastered 2011          73  109.975  \n",
       "11609                     You Make My Dreams (Come True)          78  167.057  \n",
       "11610                        You Shook Me All Night Long          80  127.361  "
      ]
     },
     "execution_count": 20,
     "metadata": {},
     "output_type": "execute_result"
    }
   ],
   "source": [
    "#Rename columns to align to pgAdmin table\n",
    "tracks_df = tracks_df.rename(columns = {\"artists\":\"artist\"})\n",
    "tracks_df.head()"
   ]
  },
  {
   "cell_type": "markdown",
   "metadata": {},
   "source": [
    "### Merge Dataframes"
   ]
  },
  {
   "cell_type": "code",
   "execution_count": 85,
   "metadata": {},
   "outputs": [],
   "source": [
    "#Merge the two dataframes using artist name - \n",
    "    #duplicate artists mostly cleared out by the popular argument requiring >5k followers\n",
    "tracks_and_follower_df = pd.merge(tracks_df, popular_artists_df[['artist','followers', 'artist_id']],on='artist', how='left')"
   ]
  },
  {
   "cell_type": "code",
   "execution_count": 94,
   "metadata": {},
   "outputs": [],
   "source": [
    "#drop any rows containing NaN values\n",
    "clean_tracks_and_follower_df = tracks_and_follower_df.dropna(how='any')"
   ]
  },
  {
   "cell_type": "code",
   "execution_count": 95,
   "metadata": {},
   "outputs": [],
   "source": [
    "#drop any rows containing duplicate id values\n",
    "cleaner_tracks = clean_tracks_and_follower_df.drop_duplicates(['id'],keep=False)"
   ]
  },
  {
   "cell_type": "code",
   "execution_count": 96,
   "metadata": {},
   "outputs": [],
   "source": [
    "#Create new artist table\n",
    "clean_artists = cleaner_tracks[['artist_id', 'artist', 'followers']].copy()"
   ]
  },
  {
   "cell_type": "code",
   "execution_count": 97,
   "metadata": {},
   "outputs": [],
   "source": [
    "#tidy up any duplicate s in dataset\n",
    "clean_artists.drop_duplicates(keep=\"first\",inplace=True)\n",
    "clean_artists.sort_values(by=[\"followers\"], inplace=True,ascending=False)\n",
    "clean_artists.drop_duplicates(['artist_id'],keep=\"first\",inplace=True)"
   ]
  },
  {
   "cell_type": "code",
   "execution_count": 99,
   "metadata": {},
   "outputs": [],
   "source": [
    "#remove artist followers column from the tracks dataset to avoid confusion with track specific popularity\n",
    "cleanest_tracks_df = cleaner_tracks.drop(columns='followers',inplace=False)\n",
    "cleanest_tracks_df.to_csv(\"trackcheck.csv\")"
   ]
  },
  {
   "cell_type": "markdown",
   "metadata": {},
   "source": [
    "### Connect to local database"
   ]
  },
  {
   "cell_type": "code",
   "execution_count": 65,
   "metadata": {},
   "outputs": [],
   "source": [
    "rds_connection_string = f\"postgres:{postgres}localhost:5432/music-masters_db\"\n",
    "engine = create_engine(f'postgresql://{rds_connection_string}')"
   ]
  },
  {
   "cell_type": "markdown",
   "metadata": {},
   "source": [
    "### Check for tables"
   ]
  },
  {
   "cell_type": "code",
   "execution_count": 100,
   "metadata": {},
   "outputs": [
    {
     "data": {
      "text/plain": [
       "['spotify_artists', 'spotify_tracks']"
      ]
     },
     "execution_count": 100,
     "metadata": {},
     "output_type": "execute_result"
    }
   ],
   "source": [
    "engine.table_names()"
   ]
  },
  {
   "cell_type": "markdown",
   "metadata": {},
   "source": [
    "### Use pandas to load csv converted DataFrame into database"
   ]
  },
  {
   "cell_type": "code",
   "execution_count": 101,
   "metadata": {},
   "outputs": [],
   "source": [
    "clean_artists.to_sql(name='spotify_artists', con=engine, if_exists='append', index=False)"
   ]
  },
  {
   "cell_type": "code",
   "execution_count": 102,
   "metadata": {},
   "outputs": [],
   "source": [
    "cleanest_tracks_df.to_sql(name='spotify_tracks', con=engine, if_exists='append', index=False)"
   ]
  },
  {
   "cell_type": "markdown",
   "metadata": {},
   "source": [
    "### Confirm data has been added by querying the spotify table\n",
    "* NOTE: can also check using pgAdmin"
   ]
  },
  {
   "cell_type": "code",
   "execution_count": 103,
   "metadata": {},
   "outputs": [
    {
     "data": {
      "text/html": [
       "<div>\n",
       "<style scoped>\n",
       "    .dataframe tbody tr th:only-of-type {\n",
       "        vertical-align: middle;\n",
       "    }\n",
       "\n",
       "    .dataframe tbody tr th {\n",
       "        vertical-align: top;\n",
       "    }\n",
       "\n",
       "    .dataframe thead th {\n",
       "        text-align: right;\n",
       "    }\n",
       "</style>\n",
       "<table border=\"1\" class=\"dataframe\">\n",
       "  <thead>\n",
       "    <tr style=\"text-align: right;\">\n",
       "      <th></th>\n",
       "      <th>year</th>\n",
       "      <th>artist</th>\n",
       "      <th>danceability</th>\n",
       "      <th>duration_ms</th>\n",
       "      <th>energy</th>\n",
       "      <th>explicit</th>\n",
       "      <th>id</th>\n",
       "      <th>loudness</th>\n",
       "      <th>name</th>\n",
       "      <th>popularity</th>\n",
       "      <th>tempo</th>\n",
       "      <th>artist_id</th>\n",
       "    </tr>\n",
       "  </thead>\n",
       "  <tbody>\n",
       "    <tr>\n",
       "      <th>0</th>\n",
       "      <td>1980</td>\n",
       "      <td>AC/DC</td>\n",
       "      <td>0</td>\n",
       "      <td>255493</td>\n",
       "      <td>1</td>\n",
       "      <td>0</td>\n",
       "      <td>08mG3Y1vljYA6bvDt4Wqkj</td>\n",
       "      <td>-6</td>\n",
       "      <td>Back In Black</td>\n",
       "      <td>84</td>\n",
       "      <td>188</td>\n",
       "      <td>711MCceyCBcFnzjGY4Q7Un</td>\n",
       "    </tr>\n",
       "    <tr>\n",
       "      <th>1</th>\n",
       "      <td>1980</td>\n",
       "      <td>Paul McCartney</td>\n",
       "      <td>1</td>\n",
       "      <td>227653</td>\n",
       "      <td>1</td>\n",
       "      <td>0</td>\n",
       "      <td>1SV1fxF65n9NhRHp3KlBuu</td>\n",
       "      <td>-9</td>\n",
       "      <td>Wonderful Christmastime - Edited Version / Rem...</td>\n",
       "      <td>79</td>\n",
       "      <td>95</td>\n",
       "      <td>4STHEaNw4mPZ2tzheohgXB</td>\n",
       "    </tr>\n",
       "    <tr>\n",
       "      <th>2</th>\n",
       "      <td>1980</td>\n",
       "      <td>Queen</td>\n",
       "      <td>1</td>\n",
       "      <td>214653</td>\n",
       "      <td>1</td>\n",
       "      <td>0</td>\n",
       "      <td>57JVGBtBLCfHw2muk5416J</td>\n",
       "      <td>-6</td>\n",
       "      <td>Another One Bites The Dust - Remastered 2011</td>\n",
       "      <td>73</td>\n",
       "      <td>110</td>\n",
       "      <td>1dfeR4HaWDbWqFHLkxsg1d</td>\n",
       "    </tr>\n",
       "    <tr>\n",
       "      <th>3</th>\n",
       "      <td>1980</td>\n",
       "      <td>Daryl Hall &amp; John Oates</td>\n",
       "      <td>1</td>\n",
       "      <td>190627</td>\n",
       "      <td>1</td>\n",
       "      <td>0</td>\n",
       "      <td>4o6BgsqLIBViaGVbx5rbRk</td>\n",
       "      <td>-12</td>\n",
       "      <td>You Make My Dreams (Come True)</td>\n",
       "      <td>78</td>\n",
       "      <td>167</td>\n",
       "      <td>77tT1kLj6mCWtFNqiOmP9H</td>\n",
       "    </tr>\n",
       "    <tr>\n",
       "      <th>4</th>\n",
       "      <td>1980</td>\n",
       "      <td>AC/DC</td>\n",
       "      <td>1</td>\n",
       "      <td>210173</td>\n",
       "      <td>1</td>\n",
       "      <td>0</td>\n",
       "      <td>2SiXAy7TuUkycRVbbWDEpo</td>\n",
       "      <td>-6</td>\n",
       "      <td>You Shook Me All Night Long</td>\n",
       "      <td>80</td>\n",
       "      <td>127</td>\n",
       "      <td>711MCceyCBcFnzjGY4Q7Un</td>\n",
       "    </tr>\n",
       "  </tbody>\n",
       "</table>\n",
       "</div>"
      ],
      "text/plain": [
       "   year                   artist  danceability  duration_ms  energy  explicit  \\\n",
       "0  1980                    AC/DC             0       255493       1         0   \n",
       "1  1980           Paul McCartney             1       227653       1         0   \n",
       "2  1980                    Queen             1       214653       1         0   \n",
       "3  1980  Daryl Hall & John Oates             1       190627       1         0   \n",
       "4  1980                    AC/DC             1       210173       1         0   \n",
       "\n",
       "                       id  loudness  \\\n",
       "0  08mG3Y1vljYA6bvDt4Wqkj        -6   \n",
       "1  1SV1fxF65n9NhRHp3KlBuu        -9   \n",
       "2  57JVGBtBLCfHw2muk5416J        -6   \n",
       "3  4o6BgsqLIBViaGVbx5rbRk       -12   \n",
       "4  2SiXAy7TuUkycRVbbWDEpo        -6   \n",
       "\n",
       "                                                name  popularity  tempo  \\\n",
       "0                                      Back In Black          84    188   \n",
       "1  Wonderful Christmastime - Edited Version / Rem...          79     95   \n",
       "2       Another One Bites The Dust - Remastered 2011          73    110   \n",
       "3                     You Make My Dreams (Come True)          78    167   \n",
       "4                        You Shook Me All Night Long          80    127   \n",
       "\n",
       "                artist_id  \n",
       "0  711MCceyCBcFnzjGY4Q7Un  \n",
       "1  4STHEaNw4mPZ2tzheohgXB  \n",
       "2  1dfeR4HaWDbWqFHLkxsg1d  \n",
       "3  77tT1kLj6mCWtFNqiOmP9H  \n",
       "4  711MCceyCBcFnzjGY4Q7Un  "
      ]
     },
     "execution_count": 103,
     "metadata": {},
     "output_type": "execute_result"
    }
   ],
   "source": [
    "pd.read_sql_query('select * from spotify_tracks', con=engine).head()"
   ]
  },
  {
   "cell_type": "code",
   "execution_count": null,
   "metadata": {},
   "outputs": [],
   "source": []
  }
 ],
 "metadata": {
  "kernelspec": {
   "display_name": "Python 3",
   "language": "python",
   "name": "python3"
  },
  "language_info": {
   "codemirror_mode": {
    "name": "ipython",
    "version": 3
   },
   "file_extension": ".py",
   "mimetype": "text/x-python",
   "name": "python",
   "nbconvert_exporter": "python",
   "pygments_lexer": "ipython3",
   "version": "3.8.5"
  },
  "nteract": {
   "version": "0.12.3"
  }
 },
 "nbformat": 4,
 "nbformat_minor": 2
}
